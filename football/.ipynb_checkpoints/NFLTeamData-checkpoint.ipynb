{
 "cells": [
  {
   "cell_type": "markdown",
   "metadata": {},
   "source": [
    "This notebook aggregates team data from NFL Plays database NFLDB.db. I have previously constructed this database from the Python nflgame package https://github.com/BurntSushi/nflgame.  The function TestDB() queries the database for various statistics corresponding to teams and seasons to determine which metrics are most strongly correlated with number of wins. "
   ]
  },
  {
   "cell_type": "code",
   "execution_count": 24,
   "metadata": {
    "collapsed": false
   },
   "outputs": [
    {
     "name": "stdout",
     "output_type": "stream",
     "text": [
      "Populating the interactive namespace from numpy and matplotlib\n",
      "['index', 'Down', 'ToGo', 'Success', 'Team', 'DriveResult', 'DriveStart', 'FieldPosition', 'GameKey', 'Opponent', 'DriveNum', 'Gain']\n",
      "['Team', 'year', 'FourthAttempt', 'FourthSuccess']\n",
      "First10Plays : 0.307361994333\n",
      "AveGainFirst10 : 0.457625012735\n",
      "First10Success : 0.0301546451853\n",
      "First10SuccessOpp : -0.179319807885\n",
      "First10TotalOpp : -0.0955178032684\n",
      "AveGainOppFirst10 : -0.280355472952\n",
      "ThirdDownSuccesses : 0.397591494146\n",
      "ThirdDownAttempts : -0.193955642291\n",
      "FourthAttempt : -0.516192086033\n",
      "FourthSuccess : -0.210276449966\n",
      "FourthRate : 0.261207993403\n",
      "ThirdRate : 0.511317772884\n",
      "FirstRate : -0.130728721947\n",
      "6.89843893051 seconds to query\n"
     ]
    }
   ],
   "source": [
    "import numpy as np\n",
    "import pandas as pd\n",
    "%pylab inline\n",
    "import matplotlib.pyplot as plt\n",
    "import time\n",
    "from sqlalchemy import create_engine\n",
    "import sqlite3 as db\n",
    "import warnings\n",
    "warnings.filterwarnings('ignore')\n",
    "\n",
    "def TestDB():\n",
    "    conn = db.connect('NFLDB.db')\n",
    "    c=conn.cursor();\n",
    "\n",
    "    Query='SELECT * FROM  (SELECT  year, Home, count(Gamekey) hwin FROM Games WHERE Home IN (SELECT distinct Plays.Team FROM Plays)  AND  HomeScore>AwayScore AND year in (SELECT distinct year FROM Games) GROUP BY Home, year ORDER BY Home)  '\n",
    "    HomeWins=c.execute(Query).fetchall()\n",
    "\n",
    "    Query='SELECT year, Away, count(Gamekey) FROM Games WHERE Away IN (SELECT distinct Plays.Team FROM Plays)  AND  HomeScore<AwayScore AND year in (SELECT distinct year FROM Games) GROUP BY Away, year'\n",
    "    AwayWins=c.execute(Query).fetchall()\n",
    "\n",
    "    Query='SELECT year, Team, count(P.Gain), avg(Gain)   FROM Plays P, Games G WHERE P.Team IN (SELECT distinct Plays.Team FROM Plays) AND year IN (SELECT distinct year FROM Games) AND P.Down=1 AND P.ToGo=10  AND P.Gamekey=G.Gamekey GROUP BY Team, year ORDER BY Team, year'\n",
    "    First10Total=c.execute(Query).fetchall()\n",
    "\n",
    "    Query='SELECT year, Team, count(Gain) FROM Plays, Games WHERE Team IN (SELECT distinct Plays.Team FROM Plays) AND year IN (SELECT distinct year FROM Games) AND Plays.Down=1 AND Plays.ToGo=10 AND Gain>4 AND Plays.Gamekey=Games.Gamekey GROUP BY Opponent, year ORDER BY Team, year'\n",
    "    First10Success=c.execute(Query).fetchall()\n",
    "\n",
    "    Query='SELECT year, Opponent, count(Gain) FROM Plays, Games WHERE Opponent IN (SELECT distinct Plays.Opponent FROM Plays) AND year IN (SELECT distinct year FROM Games) AND Plays.Down=1 AND Plays.ToGo=10 AND Gain>4 AND Plays.Gamekey=Games.Gamekey GROUP BY Opponent, year ORDER BY Opponent, year'\n",
    "    First10SuccessOpp=c.execute(Query).fetchall()\n",
    "\n",
    "    Query='SELECT year, Opponent, count(P.Gain), avg(Gain) FROM Plays P, Games G WHERE P.Opponent IN (SELECT distinct Plays.Opponent FROM Plays) AND year IN (SELECT distinct year FROM Games) AND P.Down=1 AND P.ToGo=10  AND P.Gamekey=G.Gamekey GROUP BY Opponent, year ORDER BY Opponent, year'\n",
    "    First10TotalOpp=c.execute(Query).fetchall()\n",
    "\n",
    "    Query='SELECT year, Team, count(Gain) FROM Plays P, Games G WHERE Down=3 AND Gain>=ToGo AND Team IN (SELECT distinct Team FROM Plays) AND year IN (SELECT distinct year FROM Games) AND P.Gamekey=G.Gamekey GROUP BY Team, year ORDER BY Team, year'\n",
    "    ThirdDownSuccess=c.execute(Query).fetchall()\n",
    "\n",
    "    Query='SELECT year, Team, count(Gain) FROM Plays P, Games G WHERE Down=3 AND Team IN (SELECT distinct Team FROM Plays) AND year IN (SELECT distinct year FROM Games) AND P.Gamekey=G.Gamekey GROUP BY Team, year ORDER BY Team, year'\n",
    "    ThirdDownAttempts=c.execute(Query).fetchall()\n",
    "\n",
    "    conn.close()\n",
    "\n",
    "    P=pd.DataFrame(HomeWins, columns=('year','Team','HomeWins'))\n",
    "    PA=pd.DataFrame(AwayWins, columns=('year','Team','AwayWins'))\n",
    "    First10Total=pd.DataFrame(First10Total,columns=('year','Team','First10Plays','AveGainFirst10'))\n",
    "    First10Success=pd.DataFrame(First10Success,columns=('year','Team','First10Success'))\n",
    "    First10SuccessOpp=pd.DataFrame(First10SuccessOpp,columns=('year','Team','First10SuccessOpp'))\n",
    "    First10TotalOpp=pd.DataFrame(First10TotalOpp,columns=('year','Team','First10TotalOpp','AveGainOppFirst10'))\n",
    "    ThirdDownSuccess=pd.DataFrame(ThirdDownSuccess,columns=('year','Team','ThirdDownSuccesses'))\n",
    "    ThirdDownAttempts=pd.DataFrame(ThirdDownAttempts,columns=('year','Team','ThirdDownAttempts'))\n",
    "\n",
    "    P=P.merge(PA,how='outer')\n",
    "    P=P.merge(First10Total,how='outer')\n",
    "    P=P.merge(First10Success,how='outer')\n",
    "    P=P.merge(First10SuccessOpp,how='outer')\n",
    "    P=P.merge(First10TotalOpp,how='outer')\n",
    "    P=P.merge(ThirdDownSuccess,how='outer')\n",
    "    P=P.merge(ThirdDownAttempts,how='outer')\n",
    "\n",
    "    FourthDowns=PuntDrives()\n",
    "\n",
    "    P=P.merge(FourthDowns,how='outer')\n",
    "    P.to_csv('TeamAggregateData.csv')\n",
    "\n",
    "    return P\n",
    "\n",
    "def PuntDrives():\n",
    "\n",
    "    conn = db.connect('NFLDB.db')\n",
    "    c=conn.cursor();\n",
    "\n",
    "    cursor = c.execute('select * from Plays')\n",
    "    rowt = c.description\n",
    "    colList=list()\n",
    "    for i in range(len(rowt)):\n",
    "        colList.append(rowt[i][0])\n",
    "    print(colList)\n",
    "\n",
    "    GetDrivesQuery='SELECT distinct PL.GameKey, PL.DriveNum, PL.c, PL.DriveResult FROM (SELECT  GameKey, DriveNum, count(Down) c, DriveResult FROM Plays WHERE Down=4  GROUP BY GameKey, DriveNum) PL  WHERE  DriveResult != \"Punt\" AND DriveResult != \"Field Goal\" AND DriveResult != \"Missed FG\" AND DriveResult != \"Blocked Punt\" AND DriveResult != \"End of Half\"  AND DriveResult != \"Blocked FG\" AND DriveResult != \"End of Game\" OR c>1'\n",
    "\n",
    "    GetPlaysQuery='SELECT  Plays.ToGo ToGo, Plays.Team Team , dq.Gamekey Gamekey, dq.DriveNum DriveNum, Plays.FieldPosition FieldPosition, Plays.DriveResult DriveResult, Plays.Gain Gain  FROM ' + '(' + GetDrivesQuery +' ) dq, Plays WHERE dq.DriveNum=Plays.DriveNum AND dq.GameKey=Plays.Gamekey AND Down=4'\n",
    "\n",
    "    GetNonPunt='SELECT gpq.DriveResult,  gpq.Team Team, gpq.GameKey, gpq.FieldPosition FieldPosition, gpq.Gain Gain, gpq.DriveNum DriveNum, gpq.ToGo ToGo FROM ' + '(' + GetPlaysQuery + ') gpq WHERE DriveResult != \"Punt\" AND DriveResult != \"Field Goal\" AND DriveResult != \"Missed FG\" AND DriveResult != \"Blocked Punt\"  AND DriveResult != \"Blocked FG\" OR Gain>ToGo'\n",
    "\n",
    "    GetNonPunt2='SELECT gnp.Gamekey Gamekey, Team, Gain, DriveNum, ToGo, year, DriveResult FROM ( ' + GetNonPunt + ') gnp, Games WHERE GAMES.Gamekey=gnp.Gamekey'\n",
    "\n",
    "    TotalSuccess='SELECT * FROM ((SELECT  count(Gamekey) Convers FROM (' + GetNonPunt2 + ') WHERE Gain>ToGo), (SELECT count(Gamekey) Attempt FROM (' +GetNonPunt2 + '))) '\n",
    "\n",
    "    GroupTeamYear='SELECT Team, year, FourthAttempt, FourthSuccess FROM ((SELECT Team, year, count(Gamekey) FourthAttempt FROM (' + GetNonPunt2 + ')  GROUP BY Team, year), (SELECT  Team Team2, year year2, count(Gamekey) FourthSuccess FROM (' + GetNonPunt2 + ') WHERE ToGo<=Gain GROUP BY Team, year)) WHERE Team2=Team AND year=year2'\n",
    "\n",
    "    S=c.execute(GroupTeamYear)\n",
    "    ColNames=S.description\n",
    "    colList=list()\n",
    "    for i in range(len(ColNames)):\n",
    "        colList.append(ColNames[i][0])\n",
    "    print(colList)\n",
    "\n",
    "    FourthDownAttempts=S.fetchall()\n",
    "    FourthDownAttempts=pd.DataFrame(FourthDownAttempts,columns=colList)\n",
    "\n",
    "    return FourthDownAttempts\n",
    "\n",
    "def TeamYearCorr():\n",
    "    HW=TestDB()\n",
    "    HW.HomeWins[np.isnan(HW.HomeWins)]=0\n",
    "    HW.AwayWins[np.isnan(HW.AwayWins)]=0\n",
    "    HW['FourthRate']=HW.FourthSuccess/HW.FourthAttempt\n",
    "    HW['ThirdRate']=HW.ThirdDownSuccesses/HW.ThirdDownAttempts\n",
    "    HW['FirstRate']=HW.First10Success/HW.First10Plays\n",
    "    HW['TotalWins']=HW.HomeWins+HW.AwayWins\n",
    "\n",
    "    A=np.transpose(np.array(HW[HW.columns[4:]]))\n",
    "    CC=np.corrcoef(A)\n",
    "    Param=HW.columns[4:-1]\n",
    "    C = dict()\n",
    "\n",
    "    for i in range(len(Param)):\n",
    "        C[Param[i]]=CC[-1,i]\n",
    "        print(str(Param[i]) +' : '+ str(CC[-1,i]))\n",
    "    return HW\n",
    "\n",
    "t=time.time()\n",
    "HW=TeamYearCorr()\n",
    "print(str(time.time()-t) + ' seconds to query')"
   ]
  },
  {
   "cell_type": "markdown",
   "metadata": {},
   "source": [
    "We will now attempt to compute a linear regression prediction for the number of wins an NFL team will achieve based on in-game statistics. The Pandas dataframe HW contains aggregated team information as well as the number of wins for a team in a given year. The regression will use 90% of the team seasons from 2009-2015 to train the model, and 10% for testing. "
   ]
  },
  {
   "cell_type": "code",
   "execution_count": 62,
   "metadata": {
    "collapsed": false
   },
   "outputs": [
    {
     "name": "stdout",
     "output_type": "stream",
     "text": [
      "1.65545989093\n",
      "1.65668449033\n"
     ]
    },
    {
     "data": {
      "image/png": "[encoded data removed]",
      "text/plain": [
       "<matplotlib.figure.Figure at 0x112fdc490>"
      ]
     },
     "metadata": {},
     "output_type": "display_data"
    },
    {
     "data": {
      "image/png": "[encoded data removed]",
      "text/plain": [
       "<matplotlib.figure.Figure at 0x11344fc10>"
      ]
     },
     "metadata": {},
     "output_type": "display_data"
    }
   ],
   "source": [
    "from sklearn.linear_model import LinearRegression\n",
    "\n",
    "def FootballRegression(DF,TestFrac):\n",
    "    lm=LinearRegression()\n",
    "    X=np.array(DF[DF.columns[4:-1]])\n",
    "    Y=np.array(DF.TotalWins)\n",
    "    \n",
    "    TestRand=np.array(np.floor(np.random.rand(len(Y)*TestFrac)*len(Y)),dtype=int)\n",
    "    TestX=X[TestRand]\n",
    "    TestY=Y[TestRand]\n",
    "    \n",
    "    XTrain=np.delete(X,TestRand,axis=0)\n",
    "    YTrain=np.delete(Y,TestRand,axis=0)\n",
    "    \n",
    "    lm.fit(XTrain,YTrain)\n",
    "    PRE=lm.predict(TestX)\n",
    "    ERRTest=np.mean(np.abs(PRE-TestY))\n",
    "    print(ERRTest)\n",
    "    \n",
    "    plt.subplot(2,1,1)\n",
    "    plt.scatter(TestY,PRE)\n",
    "    plt.plot([0,16],[0,16],c='red',lw=2)\n",
    "    plt.xlim([0,16])\n",
    "    plt.ylim([0,16])\n",
    "    plt.ylabel('Predicted Win Total')\n",
    "    plt.xlabel('Actual Win Total')\n",
    "    plt.title('Test Set Results')\n",
    "    plt.text(1,10,'Mean Abs Error: \\n'+ str(np.round(ERRTest,decimals=1)) +' Games' ,backgroundcolor='w' )\n",
    "    \n",
    "    plt.subplot(2,1,2)\n",
    "    plt.scatter(TestY,-PRE+TestY)\n",
    "    plt.xlim([0,16])\n",
    "    plt.xlabel('Actual Win Total')\n",
    "    plt.ylabel('Prediction Error')\n",
    "    plt.plot([0,16],[0,0],c='red',lw=2)\n",
    "    \n",
    "    LMAll=LinearRegression()\n",
    "    LMAll.fit(XTrain,YTrain)\n",
    "\n",
    "    PRETrain=LMAll.predict(XTrain)\n",
    "    ERRTrain=np.mean(np.abs(PRETrain-YTrain))\n",
    "    print(ERRTrain)\n",
    "    plt.figure()\n",
    "    plt.subplot(2,1,1)\n",
    "    plt.scatter(YTrain,PRETrain)\n",
    "    plt.plot([0,16],[0,16],c='red',lw=2)\n",
    "    plt.xlim([0,16])\n",
    "    plt.ylim([0,16])\n",
    "    plt.ylabel('Predicted Win Total')\n",
    "    plt.xlabel('Actual Win Total')\n",
    "    plt.title('Training Set Results')\n",
    "    plt.text(1,13,'Mean Abs Error: \\n'+ str(np.round(ERRTrain,decimals=1)) +' Games' ,backgroundcolor='w' )\n",
    "\n",
    "    plt.subplot(2,1,2)\n",
    "    plt.scatter(YTrain,-PRETrain+YTrain)\n",
    "    plt.xlim([0,16])\n",
    "    plt.xlabel('Actual Win Total')\n",
    "\n",
    "    \n",
    "    return X\n",
    "X=FootballRegression(HW,0.1)"
   ]
  },
  {
   "cell_type": "code",
   "execution_count": null,
   "metadata": {
    "collapsed": true
   },
   "outputs": [],
   "source": []
  }
 ],
 "metadata": {
  "kernelspec": {
   "display_name": "Python 2",
   "language": "python",
   "name": "python2"
  },
  "language_info": {
   "codemirror_mode": {
    "name": "ipython",
    "version": 2
   },
   "file_extension": ".py",
   "mimetype": "text/x-python",
   "name": "python",
   "nbconvert_exporter": "python",
   "pygments_lexer": "ipython2",
   "version": "2.7.11"
  }
 },
 "nbformat": 4,
 "nbformat_minor": 0
}
